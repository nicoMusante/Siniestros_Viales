{
 "cells": [
  {
   "cell_type": "code",
   "execution_count": 5,
   "metadata": {},
   "outputs": [],
   "source": [
    "import pandas as pd\n",
    "import matplotlib as plt\n",
    "import seaborn as sb\n"
   ]
  },
  {
   "cell_type": "markdown",
   "metadata": {},
   "source": [
    "<h3> DATASET DE VICTIMAS</h3>"
   ]
  },
  {
   "cell_type": "code",
   "execution_count": 4,
   "metadata": {},
   "outputs": [],
   "source": [
    "#cargamos el dataset en 2 dataframes, uno con victimas y otro con hechos\n",
    "dfVictimas=pd.read_excel(\"../Dataset_Original/homicidios.xlsx\", sheet_name=\"VICTIMAS\")\n",
    "dfHechos=pd.read_excel(\"../Dataset_Original/homicidios.xlsx\", sheet_name=\"HECHOS\")"
   ]
  },
  {
   "cell_type": "code",
   "execution_count": null,
   "metadata": {},
   "outputs": [],
   "source": [
    "#vemos como se compone el dataframe de victimas\n",
    "dfVictimas.info()"
   ]
  },
  {
   "cell_type": "code",
   "execution_count": null,
   "metadata": {},
   "outputs": [],
   "source": [
    "#vemos si existen nulos en el dataframe de victimas\n",
    "dfVictimas[dfVictimas.isnull().any(axis=1)]#vemos que no hay nulos "
   ]
  },
  {
   "cell_type": "code",
   "execution_count": null,
   "metadata": {},
   "outputs": [],
   "source": [
    "#notamos que existe el valor \"SD\" (referencia a sin dato)\n",
    "dfVictimas[(dfVictimas==\"SD\").any(axis=1)]"
   ]
  },
  {
   "cell_type": "code",
   "execution_count": null,
   "metadata": {},
   "outputs": [],
   "source": [
    "dfVictimas[(dfVictimas==\"SD\")].count()\n",
    "#notamos que las columnas \"EDAD\" y \"FECHA_FALLECIMIENTO\" tienen muchos de estos valores"
   ]
  },
  {
   "cell_type": "markdown",
   "metadata": {},
   "source": [
    "<h3> DATASET DE HECHOS</h3>"
   ]
  },
  {
   "cell_type": "code",
   "execution_count": null,
   "metadata": {},
   "outputs": [],
   "source": [
    "#vemos como se compone el dataframe de hechos\n",
    "dfHechos.info()"
   ]
  },
  {
   "cell_type": "code",
   "execution_count": null,
   "metadata": {},
   "outputs": [],
   "source": [
    "#vemos si existen nulos en el dataframe \n",
    "dfHechos.isnull().sum()\n",
    "#notamos que las columnas \"Altura\" y \"Cruce\" tienen muchos valores nulos por lo que las eliminamos del df"
   ]
  },
  {
   "cell_type": "code",
   "execution_count": null,
   "metadata": {},
   "outputs": [],
   "source": [
    "#vemos cuales columnas tienen el valor \"SD\" antes mencionado\n",
    "dfHechos[(dfHechos==\"SD\")].count()\n",
    "#hay muy pocos valores \"SD\""
   ]
  }
 ],
 "metadata": {
  "kernelspec": {
   "display_name": "envpda",
   "language": "python",
   "name": "python3"
  },
  "language_info": {
   "codemirror_mode": {
    "name": "ipython",
    "version": 3
   },
   "file_extension": ".py",
   "mimetype": "text/x-python",
   "name": "python",
   "nbconvert_exporter": "python",
   "pygments_lexer": "ipython3",
   "version": "3.12.0"
  }
 },
 "nbformat": 4,
 "nbformat_minor": 2
}
